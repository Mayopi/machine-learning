{
 "cells": [
  {
   "cell_type": "markdown",
   "metadata": {},
   "source": [
    "## Question\n",
    "\n",
    "1. What is transpose of ***Y***?\n",
    "    Y = [\n",
    "        [42, 4, 7, 99],\n",
    "        [-99, -3, 17, 22]\n",
    "    ]\n",
    "\n",
    "2. What is the Hadamard product of these matrices?\n",
    "    [\n",
    "        [25, 10],\n",
    "        [-2, 1]\n",
    "    ]\n",
    "\n",
    "    O\n",
    "    \n",
    "    [\n",
    "        [-1, 7],\n",
    "        [10, 8]\n",
    "    ]\n",
    "\n",
    "3. What is the dot product of the tensor _***w***_ and _***x***_\n",
    "    w = [-1, 2, -2]\n",
    "    x = [5, 10, 0]"
   ]
  },
  {
   "cell_type": "code",
   "execution_count": 2,
   "metadata": {},
   "outputs": [],
   "source": [
    "import numpy as np"
   ]
  },
  {
   "cell_type": "code",
   "execution_count": 5,
   "metadata": {},
   "outputs": [
    {
     "data": {
      "text/plain": [
       "array([[ 42, -99],\n",
       "       [  4,  -3],\n",
       "       [  7,  17],\n",
       "       [ 99,  22]])"
      ]
     },
     "execution_count": 5,
     "metadata": {},
     "output_type": "execute_result"
    }
   ],
   "source": [
    "# Answer to question number 1\n",
    "Y = np.array([\n",
    "    [42, 4, 7, 99],\n",
    "    [-99, -3, 17, 22]\n",
    "])\n",
    "\n",
    "Y_Transpose = Y.T\n",
    "Y_Transpose"
   ]
  },
  {
   "cell_type": "code",
   "execution_count": 11,
   "metadata": {},
   "outputs": [
    {
     "data": {
      "text/plain": [
       "array([[-25,  70],\n",
       "       [-20,   8]])"
      ]
     },
     "execution_count": 11,
     "metadata": {},
     "output_type": "execute_result"
    }
   ],
   "source": [
    "# Answer to question number 2\n",
    "\n",
    "Hadamarrd_product = np.multiply(\n",
    "    np.array([[25, 10], [-2, 1]]),\n",
    "    np.array([[-1, 7], [10, 8]])\n",
    ")\n",
    "\n",
    "Hadamarrd_product"
   ]
  },
  {
   "cell_type": "code",
   "execution_count": 13,
   "metadata": {},
   "outputs": [
    {
     "data": {
      "text/plain": [
       "15"
      ]
     },
     "execution_count": 13,
     "metadata": {},
     "output_type": "execute_result"
    }
   ],
   "source": [
    "# Answer to question number 3\n",
    "\n",
    "w = np.array([-1, 2, -2])\n",
    "x = np.array([5, 10, 0])\n",
    "\n",
    "w_x_dot_product = np.dot(w, x)\n",
    "w_x_dot_product"
   ]
  }
 ],
 "metadata": {
  "kernelspec": {
   "display_name": "Env",
   "language": "python",
   "name": "python3"
  },
  "language_info": {
   "codemirror_mode": {
    "name": "ipython",
    "version": 3
   },
   "file_extension": ".py",
   "mimetype": "text/x-python",
   "name": "python",
   "nbconvert_exporter": "python",
   "pygments_lexer": "ipython3",
   "version": "3.11.1"
  }
 },
 "nbformat": 4,
 "nbformat_minor": 2
}
